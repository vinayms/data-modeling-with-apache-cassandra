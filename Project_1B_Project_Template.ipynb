{
 "cells": [
  {
   "cell_type": "markdown",
   "metadata": {
    "editable": true
   },
   "source": [
    "# Part I. ETL Pipeline for Pre-Processing the Files"
   ]
  },
  {
   "cell_type": "markdown",
   "metadata": {
    "editable": true
   },
   "source": [
    "## PLEASE RUN THE FOLLOWING CODE FOR PRE-PROCESSING THE FILES"
   ]
  },
  {
   "cell_type": "markdown",
   "metadata": {
    "editable": true
   },
   "source": [
    "#### Import Python packages "
   ]
  },
  {
   "cell_type": "code",
   "execution_count": 1,
   "metadata": {
    "editable": true
   },
   "outputs": [],
   "source": [
    "# Import Python packages \n",
    "import pandas as pd\n",
    "import cassandra\n",
    "import re\n",
    "import os\n",
    "import glob\n",
    "import numpy as np\n",
    "import json\n",
    "import csv"
   ]
  },
  {
   "cell_type": "markdown",
   "metadata": {
    "editable": true
   },
   "source": [
    "#### Creating list of filepaths to process original event csv data files"
   ]
  },
  {
   "cell_type": "code",
   "execution_count": 2,
   "metadata": {
    "editable": true
   },
   "outputs": [
    {
     "name": "stdout",
     "output_type": "stream",
     "text": [
      "/home/workspace\n"
     ]
    }
   ],
   "source": [
    "# checking your current working directory\n",
    "print(os.getcwd())\n",
    "\n",
    "# Get your current folder and subfolder event data\n",
    "filepath = os.getcwd() + '/event_data'\n",
    "filepaths = []\n",
    "# Create a for loop to create a list of files and collect each filepath\n",
    "for root, dirs, files in os.walk(filepath):\n",
    "    for name in files:\n",
    "        filepaths.append(os.path.join(root, name))\n",
    "    for name in dirs:\n",
    "        print(os.path.join(root, name))\n",
    "# join the file path and roots with the subdirectories using glob\n",
    "    file_path_list = glob.glob(os.path.join(root,'*'))\n"
   ]
  },
  {
   "cell_type": "markdown",
   "metadata": {
    "editable": true
   },
   "source": [
    "#### Processing the files to create the data file csv that will be used for Apache Casssandra tables"
   ]
  },
  {
   "cell_type": "code",
   "execution_count": 3,
   "metadata": {
    "editable": true
   },
   "outputs": [],
   "source": [
    "# initiating an empty list of rows that will be generated from each file\n",
    "full_data_rows_list = [] \n",
    "    \n",
    "# for every filepath in the file path list \n",
    "for f in file_path_list:\n",
    "\n",
    "# reading csv file \n",
    "    with open(f, 'r', encoding = 'utf8', newline='') as csvfile: \n",
    "        # creating a csv reader object \n",
    "        csvreader = csv.reader(csvfile) \n",
    "        next(csvreader)\n",
    "        \n",
    " # extracting each data row one by one and append it        \n",
    "        for line in csvreader:\n",
    "            #print(line)\n",
    "            full_data_rows_list.append(line) \n",
    "\n",
    "# creating a smaller event data csv file called event_datafile_full csv that will be used to insert data into the \\\n",
    "# Apache Cassandra tables\n",
    "csv.register_dialect('myDialect', quoting=csv.QUOTE_ALL, skipinitialspace=True)\n",
    "\n",
    "with open('event_datafile_new.csv', 'w', encoding = 'utf8', newline='') as f:\n",
    "    writer = csv.writer(f, dialect='myDialect')\n",
    "    writer.writerow(['artist','firstName','gender','itemInSession','lastName','length',\\\n",
    "                'level','location','sessionId','song','userId'])\n",
    "    for row in full_data_rows_list:\n",
    "        if (row[0] == ''):\n",
    "            continue\n",
    "        writer.writerow((row[0], row[2], row[3], row[4], row[5], row[6], row[7], row[8], row[12], row[13], row[16]))\n"
   ]
  },
  {
   "cell_type": "code",
   "execution_count": 4,
   "metadata": {
    "editable": true
   },
   "outputs": [
    {
     "name": "stdout",
     "output_type": "stream",
     "text": [
      "6821\n"
     ]
    }
   ],
   "source": [
    "#To check the number lines of event_datafile_new.csc file. \n",
    "with open('event_datafile_new.csv', 'r', encoding = 'utf8') as f:\n",
    "    print(sum(1 for line in f))"
   ]
  },
  {
   "cell_type": "markdown",
   "metadata": {
    "editable": true
   },
   "source": [
    "# Part II. Complete the Apache Cassandra coding portion of your project. \n",
    "\n",
    "## Now you are ready to work with the CSV file titled <font color=red>event_datafile_new.csv</font>, located within the Workspace directory.  The event_datafile_new.csv contains the following columns: \n",
    "- artist \n",
    "- firstName of user\n",
    "- gender of user\n",
    "- item number in session\n",
    "- last name of user\n",
    "- length of the song\n",
    "- level (paid or free song)\n",
    "- location of the user\n",
    "- sessionId\n",
    "- song title\n",
    "- userId\n",
    "\n",
    "The image below is a screenshot of what the denormalized data should appear like in the <font color=red>**event_datafile_new.csv**</font> after the code above is run:<br>\n",
    "\n",
    "<img src=\"images/image_event_datafile_new.jpg\">"
   ]
  },
  {
   "cell_type": "markdown",
   "metadata": {
    "editable": true
   },
   "source": [
    "## Begin writing your Apache Cassandra code in the cells below"
   ]
  },
  {
   "cell_type": "markdown",
   "metadata": {
    "editable": true
   },
   "source": [
    "#### Creating a Cluster"
   ]
  },
  {
   "cell_type": "code",
   "execution_count": 5,
   "metadata": {
    "editable": true
   },
   "outputs": [],
   "source": [
    "## The following code is to create cassandra cluster the connection will be established 127.0.0.1.\n",
    "from cassandra.cluster import Cluster\n",
    "try:\n",
    "    cluster = Cluster()\n",
    "    session = cluster.connect()\n",
    "except Exception as e:\n",
    "    print('Exception while connecting to cluster')\n",
    "    print(e)"
   ]
  },
  {
   "cell_type": "markdown",
   "metadata": {
    "editable": true
   },
   "source": [
    "#### Create Keyspace"
   ]
  },
  {
   "cell_type": "code",
   "execution_count": 6,
   "metadata": {
    "editable": true
   },
   "outputs": [],
   "source": [
    "# To create udacity keyspace with 'SimpleStrategy' and replication factor as 1. \n",
    "try:\n",
    "    session.execute(\"\"\" CREATE KEYSPACE IF NOT EXISTS udacity \n",
    "                         WITH REPLICATION =\n",
    "                        {'class':'SimpleStrategy', 'replication_factor': 1 } \"\"\")\n",
    "except Exception as e:\n",
    "    print('Exception while creating keyspace udacity')\n",
    "    print(e)"
   ]
  },
  {
   "cell_type": "markdown",
   "metadata": {
    "editable": true
   },
   "source": [
    "#### Set Keyspace"
   ]
  },
  {
   "cell_type": "code",
   "execution_count": 7,
   "metadata": {
    "editable": true
   },
   "outputs": [],
   "source": [
    "# Using cassandra cluster session will set keyspace value. \n",
    "try:\n",
    "    session.set_keyspace('udacity')\n",
    "except Exception as e:\n",
    "    print(e)"
   ]
  },
  {
   "cell_type": "markdown",
   "metadata": {
    "editable": true
   },
   "source": [
    "### Now we need to create tables to run the following queries. Remember, with Apache Cassandra you model the database tables on the queries you want to run."
   ]
  },
  {
   "cell_type": "markdown",
   "metadata": {
    "editable": true
   },
   "source": [
    "## Create queries to ask the following three questions of the data\n",
    "\n",
    "### 1. Give me the artist, song title and song's length in the music app history that was heard during  sessionId = 338, and itemInSession  = 4\n",
    "\n",
    "\n",
    "### 2. Give me only the following: name of artist, song (sorted by itemInSession) and user (first and last name) for userid = 10, sessionid = 182\n",
    "    \n",
    "\n",
    "### 3. Give me every user name (first and last) in my music app history who listened to the song 'All Hands Against His Own'\n",
    "\n",
    "\n"
   ]
  },
  {
   "cell_type": "code",
   "execution_count": 8,
   "metadata": {
    "editable": true
   },
   "outputs": [],
   "source": [
    "## Question 1 : Give me the artist, song title and song's length in music app history that was heard during sessionId=338, itemInSession=4\n",
    "## Answer : The question expects artist, song and the song's length Now, thinking of query which is required to get these data is \n",
    "## SELECT artist, song_title, song_length FROM play_history WHERE session_id = <value> AND item_in_session = <value>;\n",
    "## by keeping this query in mind to design NoSQL data model\n",
    "##     1. We need artist, song, song's length as output.\n",
    "##     2. Based on unique session id and itemInSession. \n",
    "## As we know the SELECT query, we can move to CREATE table query. We will add NOT EXIST to the CREATE statement to check if \n",
    "## the table exists and only create the table if it does not exist. Now we need to select the columns that are going to be in \n",
    "## the table and the PRIMARY KEY.Here the PRIMARY KEY is the composit of song and user_id and CLUSTER column is user.\n",
    "## COLUMN Names : \n",
    "##            1. session_id : integer value of session which the song was/is played.\n",
    "##.           3. item_in_session : integer value of the item the song which are added in session. \n",
    "##            4. artist : text value of the artist of the song. \n",
    "##.           5. song_title : text value of the song tittle. \n",
    "##            6. song_length : floating type value of the song length. \n",
    "## PRIMARY KEY : The primary key should uniquely identify each row. For this question we need the results based on session_id and item_in_session. \n",
    "##              So, we are keeping session_id and item_in_session as primary key. \n",
    "\n",
    "query = \"CREATE TABLE IF NOT EXISTS play_history \"\n",
    "query = query + \"\"\"( session_id int,\n",
    "                     item_in_session int,\n",
    "                     artist text,\n",
    "                     song_title text,\n",
    "                     song_length float,\n",
    "                     PRIMARY KEY (session_id, item_in_session))\"\"\"\n",
    "try:\n",
    "    session.execute(query)\n",
    "except Exception as e:\n",
    "    print(e)                    "
   ]
  },
  {
   "cell_type": "code",
   "execution_count": 10,
   "metadata": {
    "editable": true
   },
   "outputs": [],
   "source": [
    "# Here the Primary Key has two fields: session_id is the partition key, \n",
    "# and item_in_session are clustering keys. Partitioning is done by session_id and \n",
    "# within that partition, rows are ordered by the item_in_session.\n",
    "file = 'event_datafile_new.csv'\n",
    "\n",
    "with open(file, encoding = 'utf8') as f:\n",
    "    csvreader = csv.reader(f)\n",
    "    next(csvreader) # skip header\n",
    "    for line in csvreader:\n",
    "## Assign the INSERT statements into the `query` variable\n",
    "        query = \"\"\" INSERT INTO play_history (session_id, \n",
    "                                              item_in_session,\n",
    "                                              artist, \n",
    "                                              song_title, \n",
    "                                              song_length) \"\"\"\n",
    "        query = query + \" VALUES (%s, %s, %s, %s ,%s)\"\n",
    "        ## Assign which column element should be assigned for each column in the INSERT statement.\n",
    "        ## For e.g., to INSERT artist_name and user first_name, you would change the code below to `line[0], line[1]`\n",
    "        session.execute(query, (int(line[8]),int(line[3]), line[0],line[9],float(line[5])))"
   ]
  },
  {
   "cell_type": "markdown",
   "metadata": {
    "editable": true
   },
   "source": [
    "#### Do a SELECT to verify that the data have been inserted into each table"
   ]
  },
  {
   "cell_type": "code",
   "execution_count": 11,
   "metadata": {
    "editable": true,
    "scrolled": true
   },
   "outputs": [
    {
     "name": "stdout",
     "output_type": "stream",
     "text": [
      "[Row(artist='Faithless', song_title='Music Matters (Mark Knight Dub)', song_length=495.30731201171875)]\n"
     ]
    }
   ],
   "source": [
    "## The code to Query the data inserted into play_history table. \n",
    "resultQuery = session.execute(\"\"\" \n",
    "                SELECT artist, song_title, song_length \n",
    "                FROM play_history \n",
    "                WHERE session_id = 338 AND item_in_session = 4;\n",
    "\n",
    "\"\"\")\n",
    "print(resultQuery._current_rows)"
   ]
  },
  {
   "cell_type": "markdown",
   "metadata": {
    "editable": true
   },
   "source": [
    "### COPY AND REPEAT THE ABOVE THREE CELLS FOR EACH OF THE THREE QUESTIONS"
   ]
  },
  {
   "cell_type": "code",
   "execution_count": 12,
   "metadata": {
    "editable": true
   },
   "outputs": [],
   "source": [
    "## Query 2: Give me only the following: name of artist, song (sorted by itemInSession) and user (first and last name)\n",
    "## for userid = 10, sessionid = 182\n",
    "## Answer : The question expects artist, song which should be sorted by itemInSession adn user's first and last name. \n",
    "#  Now, thinking of query which is required to get these data is \n",
    "## SELECT artist, song, user FROM play_history_user_by_session WHERE user_id = <value> AND session_id = <value>;\n",
    "## by keeping this query in mind to design NoSQL data model\n",
    "##     1. We need artist, song, user as output.\n",
    "##     2. Based on unique user and session id value. \n",
    "## As we know the SELECT query, we can move to CREATE table query. We will add NOT EXIST to the CREATE statement to check if \n",
    "## the table exists and only create the table if it does not exist. Now we need to select the columns that are going to be in \n",
    "## the table and the PRIMARY KEY.Here the PRIMARY KEY is the composit of song and user_id and CLUSTER column is user.\n",
    "## COLUMN Names : \n",
    "##            1. user_id : integer value of user id.\n",
    "##            2. session_id : integer value of session which the song was/is played.\n",
    "##.           3. item_in_session : integer value of the item the song which are added in session. \n",
    "##            4. artist : text value of the artist of the song. \n",
    "##.           5. song : text value of the song tittle. \n",
    "##            6. user : text value of concatinated first and last name of the user_id.\n",
    "## PRIMARY KEY : The primary key should uniquely identify each row. For this question we need the results based on user_id and session_id. So, we are\n",
    "##               keeping user_id and session_id as primary key. \n",
    "## CLUSTER COLUMN : The results are required to be sorted based on item_in_session. So, we are adding item_in_session as a cluster column.\n",
    "query = \"CREATE TABLE IF NOT EXISTS play_history_user_by_session \"\n",
    "query = query + \"\"\"( user_id int,\n",
    "                     session_id int,\n",
    "                     item_in_session int,\n",
    "                     artist text,\n",
    "                     song text,\n",
    "                     user text,\n",
    "                     PRIMARY KEY ((user_id, session_id), item_in_session))\"\"\"\n",
    "try:\n",
    "    session.execute(query)\n",
    "except Exception as e:\n",
    "    print(e)                      "
   ]
  },
  {
   "cell_type": "code",
   "execution_count": 13,
   "metadata": {
    "editable": true
   },
   "outputs": [],
   "source": [
    "#Insert data into table play_history_user_by_session\n",
    "with open(file, encoding = 'utf8') as f:\n",
    "    csvreader = csv.reader(f)\n",
    "    next(csvreader) # skip header\n",
    "    for line in csvreader:\n",
    "        query = \"\"\" INSERT INTO play_history_user_by_session (\n",
    "                                                            user_id, \n",
    "                                                            session_id, \n",
    "                                                            item_in_session,\n",
    "                                                            artist,\n",
    "                                                            song,\n",
    "                                                            user)\n",
    "        \n",
    "        \"\"\"\n",
    "        query = query + \" VALUES (%s, %s, %s, %s ,%s, %s)\"\n",
    "        session.execute(query, (int(line[10]), int(line[8]),int(line[3]),line[0],line[9],line[1]+\" \"+line[4]))"
   ]
  },
  {
   "cell_type": "code",
   "execution_count": 14,
   "metadata": {
    "editable": true
   },
   "outputs": [
    {
     "name": "stdout",
     "output_type": "stream",
     "text": [
      "[Row(artist='Down To The Bone', song=\"Keep On Keepin' On\", user='Sylvie Cruz'), Row(artist='Three Drives', song='Greece 2000', user='Sylvie Cruz'), Row(artist='Sebastien Tellier', song='Kilometer', user='Sylvie Cruz'), Row(artist='Lonnie Gordon', song='Catch You Baby (Steve Pitron & Max Sanna Radio Edit)', user='Sylvie Cruz')]\n"
     ]
    }
   ],
   "source": [
    "## Here the primary key is the composite key user_id and session_id. And we have CLUSTERING COLUMN as item_in_session\n",
    "## The parition is done based on the composite key and stored sorted based on item_in_session.\n",
    "## Exectue select query for play_history_user_by_session\n",
    "resultQuery1 = session.execute(\"\"\" \n",
    "                SELECT artist, song, user \n",
    "                FROM play_history_user_by_session \n",
    "                WHERE user_id = 10 AND session_id = 182;\n",
    "\n",
    "\"\"\")\n",
    "print(resultQuery1._current_rows)"
   ]
  },
  {
   "cell_type": "code",
   "execution_count": 21,
   "metadata": {
    "editable": true
   },
   "outputs": [],
   "source": [
    "## Query 3: Give me every user name (first and last) in my music app history who listened to the song 'All Hands Against His Own'\n",
    "## Answer : The question expects user first and last name. Now, thinking of query which we could achieved is \n",
    "## SELECT user FROM play_history_user_by_song WHERE song = <value> by keeping the query in mind to design NoSQL data model\n",
    "## 1. We need user (first and last name) as output.\n",
    "## 2. Based on song unique to the user. \n",
    "## As we know the SELECT query, we can move to CREATE table query. We will add NOT EXIST to the CREATE statement to check if \n",
    "## the table exists and only create the table if it does not exist. Now we need to select the columns that are going to be in \n",
    "## the table and the PRIMARY KEY.Here the PRIMARY KEY is the composit of song and user_id and CLUSTER column is user.\n",
    "## COLUMN Names : We need song which is title of the song, user_id to uniquely identify the user listened to the song and user which is \n",
    "## concatination of fisrt_name and last_name. \n",
    "\n",
    "query = \"CREATE TABLE IF NOT EXISTS play_history_user_by_song\"\n",
    "query = query + \"\"\"( song text,\n",
    "                     user_id int,\n",
    "                     user text,\n",
    "                     PRIMARY KEY (song,user_id) )\"\"\"\n",
    "\n",
    "try:\n",
    "    session.execute(query)\n",
    "except Exception as e:\n",
    "    print(e)  \n",
    "                    "
   ]
  },
  {
   "cell_type": "code",
   "execution_count": 22,
   "metadata": {
    "editable": true
   },
   "outputs": [],
   "source": [
    "#Insert data into table play_history_user_by_session\n",
    "with open(file, encoding = 'utf8') as f:\n",
    "    csvreader = csv.reader(f)\n",
    "    next(csvreader) # skip header\n",
    "    for line in csvreader:\n",
    "        query = \"\"\" INSERT INTO play_history_user_by_song (song, user_id, user)\n",
    "        \n",
    "        \"\"\"\n",
    "        query = query + \" VALUES (%s, %s ,%s)\"\n",
    "        session.execute(query, (line[9],int(line[10]),line[1]+\" \"+line[4]))"
   ]
  },
  {
   "cell_type": "code",
   "execution_count": 23,
   "metadata": {
    "editable": true
   },
   "outputs": [
    {
     "name": "stdout",
     "output_type": "stream",
     "text": [
      "[Row(user='Jacqueline Lynch'), Row(user='Tegan Levine'), Row(user='Sara Johnson')]\n"
     ]
    }
   ],
   "source": [
    "## Query 3: Give me every user name (first and last) in my music app history who listened to the song 'All Hands Against His Own'\n",
    "## Answer : The question expects user first and last name. Here the primary key is the composite key song and user.\n",
    "## The parition is done based on the composite key song and user.\n",
    "resultQuery3 = session.execute(\"\"\" \n",
    "                SELECT user \n",
    "                FROM play_history_user_by_song \n",
    "                WHERE song = 'All Hands Against His Own';\n",
    "\n",
    "\"\"\")\n",
    "print(resultQuery3._current_rows)"
   ]
  },
  {
   "cell_type": "markdown",
   "metadata": {
    "editable": true
   },
   "source": [
    "### Drop the tables before closing out the sessions"
   ]
  },
  {
   "cell_type": "code",
   "execution_count": 24,
   "metadata": {
    "editable": true
   },
   "outputs": [],
   "source": [
    "## Drop the table before closing out the sessions\n",
    "dropQuery_play_history = \"drop table play_history\"\n",
    "dropQuery_play_history_user_by_session = \"drop table play_history_user_by_session\"\n",
    "dropQuery_play_history_user_by_song  = \"drop table play_history_user_by_song\"\n",
    "try:\n",
    "    session.execute(dropQuery_play_history)\n",
    "    session.execute(dropQuery_play_history_user_by_session)\n",
    "    session.execute(dropQuery_play_history_user_by_song)\n",
    "except Exception as e:\n",
    "    print(e)"
   ]
  },
  {
   "cell_type": "markdown",
   "metadata": {
    "editable": true
   },
   "source": [
    "### Close the session and cluster connection¶"
   ]
  },
  {
   "cell_type": "code",
   "execution_count": 25,
   "metadata": {
    "editable": true
   },
   "outputs": [],
   "source": [
    "session.shutdown()\n",
    "cluster.shutdown()"
   ]
  },
  {
   "cell_type": "code",
   "execution_count": null,
   "metadata": {
    "editable": true
   },
   "outputs": [],
   "source": []
  },
  {
   "cell_type": "code",
   "execution_count": null,
   "metadata": {
    "editable": true
   },
   "outputs": [],
   "source": []
  }
 ],
 "metadata": {
  "kernelspec": {
   "display_name": "Python 3",
   "language": "python",
   "name": "python3"
  },
  "language_info": {
   "codemirror_mode": {
    "name": "ipython",
    "version": 3
   },
   "file_extension": ".py",
   "mimetype": "text/x-python",
   "name": "python",
   "nbconvert_exporter": "python",
   "pygments_lexer": "ipython3",
   "version": "3.6.3"
  }
 },
 "nbformat": 4,
 "nbformat_minor": 4
}
